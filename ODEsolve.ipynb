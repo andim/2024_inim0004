{
 "cells": [
  {
   "cell_type": "code",
   "execution_count": null,
   "metadata": {
    "id": "vbV6KBbyix3e"
   },
   "outputs": [],
   "source": [
    "import numpy as np\n",
    "import matplotlib.pyplot as plt"
   ]
  },
  {
   "cell_type": "code",
   "execution_count": null,
   "metadata": {
    "id": "uFAJdzFcjPbf"
   },
   "outputs": [],
   "source": [
    "# Define parameters\n",
    "a = 0.7\n",
    "b = 0.8\n",
    "tau = 12.5\n",
    "i = 0.5\n",
    "# Define initial conditions\n",
    "v0 = 0.0\n",
    "w0 = 0.0\n",
    "# simulation end time\n",
    "T = 100\n",
    "dt = 0.1"
   ]
  },
  {
   "cell_type": "code",
   "execution_count": null,
   "metadata": {
    "id": "qse33YbCi8Zg"
   },
   "outputs": [],
   "source": [
    "# function calculating the right hand side of the ODE\n",
    "def f(z, t):\n",
    "    v, w = z\n",
    "    # TODO: implement these functions\n",
    "    dvdt = ### your code here ###\n",
    "    dwdt = ### your code here ###\n",
    "    return np.array([dvdt, dwdt])"
   ]
  },
  {
   "cell_type": "code",
   "execution_count": null,
   "metadata": {
    "id": "2aohlrCbjtY3"
   },
   "outputs": [],
   "source": [
    "z = np.array([v0, w0])\n",
    "ts = np.arange(0, T, dt)\n",
    "results = np.empty((len(ts), len(z)))\n",
    "for step, t in enumerate(ts):\n",
    "    # TODO: implement a Euler step\n",
    "    ### your code here ###\n",
    "    results[step] = z\n",
    "vs = results[:, 0]\n",
    "ws = results[:, 1]"
   ]
  },
  {
   "cell_type": "code",
   "execution_count": null,
   "metadata": {
    "colab": {
     "base_uri": "https://localhost:8080/",
     "height": 467
    },
    "id": "u_4S4KSQlJZL",
    "outputId": "7157bf10-d596-4cdc-ea01-889c6273377c"
   },
   "outputs": [],
   "source": [
    "plt.plot(ts, vs, label='v')\n",
    "plt.plot(ts, ws, label='w')\n",
    "plt.legend(loc='upper right')\n",
    "plt.xlabel('Time')\n",
    "plt.ylabel('State Variable')"
   ]
  },
  {
   "cell_type": "code",
   "execution_count": null,
   "metadata": {
    "id": "XsZfPhKdplrs"
   },
   "outputs": [],
   "source": []
  }
 ],
 "metadata": {
  "colab": {
   "provenance": []
  },
  "kernelspec": {
   "display_name": "Python 3 (ipykernel)",
   "language": "python",
   "name": "python3"
  },
  "language_info": {
   "codemirror_mode": {
    "name": "ipython",
    "version": 3
   },
   "file_extension": ".py",
   "mimetype": "text/x-python",
   "name": "python",
   "nbconvert_exporter": "python",
   "pygments_lexer": "ipython3",
   "version": "3.10.9"
  }
 },
 "nbformat": 4,
 "nbformat_minor": 1
}
